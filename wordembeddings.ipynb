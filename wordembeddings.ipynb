{
 "cells": [
  {
   "cell_type": "markdown",
   "metadata": {
    "id": "view-in-github"
   },
   "source": [
    "<a href=\"https://colab.research.google.com/github/Andrian0s/ML4NLP1-2024-Tutorial-Notebooks/blob/main/exercises/ex2/Exercise_2_Word_Embeddings.ipynb\" target=\"_parent\"><img src=\"https://colab.research.google.com/assets/colab-badge.svg\" alt=\"Open In Colab\"/></a>"
   ]
  },
  {
   "cell_type": "code",
   "execution_count": null,
   "metadata": {
    "id": "gALCagMSOnRz"
   },
   "outputs": [],
   "source": [
    "%matplotlib inline"
   ]
  },
  {
   "cell_type": "markdown",
   "metadata": {
    "id": "jgHDDrKlO35U"
   },
   "source": [
    "### Source: [link](https://pytorch.org/tutorials/beginner/nlp/word_embeddings_tutorial.html#exercise-computing-word-embeddings-continuous-bag-of-words)\n",
    "\n",
    "# Word Embeddings: Encoding Lexical Semantics\n",
    "\n",
    "Word embeddings are dense vectors of real numbers, one per word in your\n",
    "vocabulary. In NLP, it is almost always the case that your features are\n",
    "words! But how should you represent a word in a computer? You could\n",
    "store its ascii character representation, but that only tells you what\n",
    "the word *is*, it doesn't say much about what it *means* (you might be\n",
    "able to derive its part of speech from its affixes, or properties from\n",
    "its capitalization, but not much). Even more, in what sense could you\n",
    "combine these representations? We often want dense outputs from our\n",
    "neural networks, where the inputs are $|V|$ dimensional, where\n",
    "$V$ is our vocabulary, but often the outputs are only a few\n",
    "dimensional (if we are only predicting a handful of labels, for\n",
    "instance). How do we get from a massive dimensional space to a smaller\n",
    "dimensional space?\n",
    "\n",
    "How about instead of ascii representations, we use a one-hot encoding?\n",
    "That is, we represent the word $w$ by\n",
    "\n",
    "\\begin{align}\\overbrace{\\left[ 0, 0, \\dots, 1, \\dots, 0, 0 \\right]}^\\text{|V| elements}\\end{align}\n",
    "\n",
    "where the 1 is in a location unique to $w$. Any other word will\n",
    "have a 1 in some other location, and a 0 everywhere else.\n",
    "\n",
    "There is an enormous drawback to this representation, besides just how\n",
    "huge it is. It basically treats all words as independent entities with\n",
    "no relation to each other. What we really want is some notion of\n",
    "*similarity* between words. Why? Let's see an example.\n",
    "\n",
    "Suppose we are building a language model. Suppose we have seen the\n",
    "sentences\n",
    "\n",
    "* The mathematician ran to the store.\n",
    "* The physicist ran to the store.\n",
    "* The mathematician solved the open problem.\n",
    "\n",
    "in our training data. Now suppose we get a new sentence never before\n",
    "seen in our training data:\n",
    "\n",
    "* The physicist solved the open problem.\n",
    "\n",
    "Our language model might do OK on this sentence, but wouldn't it be much\n",
    "better if we could use the following two facts:\n",
    "\n",
    "* We have seen  mathematician and physicist in the same role in a sentence. Somehow they\n",
    "  have a semantic relation.\n",
    "* We have seen mathematician in the same role  in this new unseen sentence\n",
    "  as we are now seeing physicist.\n",
    "\n",
    "and then infer that physicist is actually a good fit in the new unseen\n",
    "sentence? This is what we mean by a notion of similarity: we mean\n",
    "*semantic similarity*, not simply having similar orthographic\n",
    "representations. It is a technique to combat the sparsity of linguistic\n",
    "data, by connecting the dots between what we have seen and what we\n",
    "haven't. This example of course relies on a fundamental linguistic\n",
    "assumption: that words appearing in similar contexts are related to each\n",
    "other semantically. This is called the `distributional\n",
    "hypothesis <https://en.wikipedia.org/wiki/Distributional_semantics>`__.\n",
    "\n",
    "\n",
    "# Getting Dense Word Embeddings\n",
    "\n",
    "How can we solve this problem? That is, how could we actually encode\n",
    "semantic similarity in words? Maybe we think up some semantic\n",
    "attributes. For example, we see that both mathematicians and physicists\n",
    "can run, so maybe we give these words a high score for the \"is able to\n",
    "run\" semantic attribute. Think of some other attributes, and imagine\n",
    "what you might score some common words on those attributes.\n",
    "\n",
    "If each attribute is a dimension, then we might give each word a vector,\n",
    "like this:\n",
    "\n",
    "\\begin{align}q_\\text{mathematician} = \\left[ \\overbrace{2.3}^\\text{can run},\n",
    "   \\overbrace{9.4}^\\text{likes coffee}, \\overbrace{-5.5}^\\text{majored in Physics}, \\dots \\right]\\end{align}\n",
    "\n",
    "\\begin{align}q_\\text{physicist} = \\left[ \\overbrace{2.5}^\\text{can run},\n",
    "   \\overbrace{9.1}^\\text{likes coffee}, \\overbrace{6.4}^\\text{majored in Physics}, \\dots \\right]\\end{align}\n",
    "\n",
    "Then we can get a measure of similarity between these words by doing:\n",
    "\n",
    "\\begin{align}\\text{Similarity}(\\text{physicist}, \\text{mathematician}) = q_\\text{physicist} \\cdot q_\\text{mathematician}\\end{align}\n",
    "\n",
    "Although it is more common to normalize by the lengths:\n",
    "\n",
    "\\begin{align}\\text{Similarity}(\\text{physicist}, \\text{mathematician}) = \\frac{q_\\text{physicist} \\cdot q_\\text{mathematician}}\n",
    "   {\\| q_\\text{\\physicist} \\| \\| q_\\text{mathematician} \\|} = \\cos (\\phi)\\end{align}\n",
    "\n",
    "Where $\\phi$ is the angle between the two vectors. That way,\n",
    "extremely similar words (words whose embeddings point in the same\n",
    "direction) will have similarity 1. Extremely dissimilar words should\n",
    "have similarity -1.\n",
    "\n",
    "\n",
    "You can think of the sparse one-hot vectors from the beginning of this\n",
    "section as a special case of these new vectors we have defined, where\n",
    "each word basically has similarity 0, and we gave each word some unique\n",
    "semantic attribute. These new vectors are *dense*, which is to say their\n",
    "entries are (typically) non-zero.\n",
    "\n",
    "But these new vectors are a big pain: you could think of thousands of\n",
    "different semantic attributes that might be relevant to determining\n",
    "similarity, and how on earth would you set the values of the different\n",
    "attributes? Central to the idea of deep learning is that the neural\n",
    "network learns representations of the features, rather than requiring\n",
    "the programmer to design them herself. So why not just let the word\n",
    "embeddings be parameters in our model, and then be updated during\n",
    "training? This is exactly what we will do. We will have some *latent\n",
    "semantic attributes* that the network can, in principle, learn. Note\n",
    "that the word embeddings will probably not be interpretable. That is,\n",
    "although with our hand-crafted vectors above we can see that\n",
    "mathematicians and physicists are similar in that they both like coffee,\n",
    "if we allow a neural network to learn the embeddings and see that both\n",
    "mathematicians and physicists have a large value in the second\n",
    "dimension, it is not clear what that means. They are similar in some\n",
    "latent semantic dimension, but this probably has no interpretation to\n",
    "us.\n",
    "\n",
    "\n",
    "In summary, **word embeddings are a representation of the *semantics* of\n",
    "a word, efficiently encoding semantic information that might be relevant\n",
    "to the task at hand**. You can embed other things too: part of speech\n",
    "tags, parse trees, anything! The idea of feature embeddings is central\n",
    "to the field.\n",
    "\n",
    "\n",
    "# Word Embeddings in Pytorch\n",
    "\n",
    "Before we get to a worked example and an exercise, a few quick notes\n",
    "about how to use embeddings in Pytorch and in deep learning programming\n",
    "in general. Similar to how we defined a unique index for each word when\n",
    "making one-hot vectors, we also need to define an index for each word\n",
    "when using embeddings. These will be keys into a lookup table. That is,\n",
    "embeddings are stored as a $|V| \\times D$ matrix, where $D$\n",
    "is the dimensionality of the embeddings, such that the word assigned\n",
    "index $i$ has its embedding stored in the $i$'th row of the\n",
    "matrix. In all of my code, the mapping from words to indices is a\n",
    "dictionary named word\\_to\\_ix.\n",
    "\n",
    "The module that allows you to use embeddings is torch.nn.Embedding,\n",
    "which takes two arguments: the vocabulary size, and the dimensionality\n",
    "of the embeddings.\n",
    "\n",
    "To index into this table, you must use torch.LongTensor (since the\n",
    "indices are integers, not floats).\n",
    "\n",
    "\n"
   ]
  },
  {
   "cell_type": "code",
   "execution_count": 1,
   "metadata": {
    "colab": {
     "base_uri": "https://localhost:8080/"
    },
    "id": "M_Q2GVH0OwvH",
    "outputId": "e4e0934a-3be6-4afa-b5c8-96c86eccd733"
   },
   "outputs": [
    {
     "data": {
      "text/plain": [
       "<torch._C.Generator at 0x7f1db83d5530>"
      ]
     },
     "execution_count": 1,
     "metadata": {},
     "output_type": "execute_result"
    }
   ],
   "source": [
    "# Author: Robert Guthrie\n",
    "\n",
    "import torch\n",
    "import torch.nn as nn\n",
    "import torch.nn.functional as F\n",
    "import torch.optim as optim\n",
    "import numpy as np\n",
    "import json\n",
    "from collections import Counter\n",
    "torch.manual_seed(1)"
   ]
  },
  {
   "cell_type": "code",
   "execution_count": 2,
   "metadata": {
    "colab": {
     "base_uri": "https://localhost:8080/"
    },
    "id": "MN96_fK5Plv6",
    "outputId": "06242940-0964-469a-8f61-39aba10332d3"
   },
   "outputs": [
    {
     "name": "stdout",
     "output_type": "stream",
     "text": [
      "tensor([[ 0.6614,  0.2669,  0.0617,  0.6213, -0.4519]],\n",
      "       grad_fn=<EmbeddingBackward0>)\n"
     ]
    }
   ],
   "source": [
    "word_to_ix = {\"hello\": 0, \"world\": 1}\n",
    "embeds = nn.Embedding(2, 5)  # 2 words in vocab, 5 dimensional embeddings\n",
    "lookup_tensor = torch.tensor([word_to_ix[\"hello\"]], dtype=torch.long)\n",
    "hello_embed = embeds(lookup_tensor)\n",
    "print(hello_embed)"
   ]
  },
  {
   "cell_type": "markdown",
   "metadata": {
    "id": "l3ecRemdPstX"
   },
   "source": [
    "# An Example: N-Gram Language Modeling\n",
    "\n",
    "Recall that in an n-gram language model, given a sequence of words\n",
    "$w$, we want to compute\n",
    "\n",
    "\\begin{align}P(w_i | w_{i-1}, w_{i-2}, \\dots, w_{i-n+1} )\\end{align}\n",
    "\n",
    "Where $w_i$ is the ith word of the sequence.\n",
    "\n",
    "In this example, we will compute the loss function on some training\n",
    "examples and update the parameters with backpropagation."
   ]
  },
  {
   "cell_type": "code",
   "execution_count": 3,
   "metadata": {
    "colab": {
     "base_uri": "https://localhost:8080/"
    },
    "id": "FbPuck6EPn2x",
    "outputId": "9903aef3-6535-4173-99cf-61bf004241f7"
   },
   "outputs": [
    {
     "name": "stdout",
     "output_type": "stream",
     "text": [
      "[(['When', 'forty'], 'winters'), (['forty', 'winters'], 'shall'), (['winters', 'shall'], 'besiege')]\n",
      "Loss in Epoch 0: 522.23\n",
      "Loss in Epoch 1: 519.69\n",
      "Loss in Epoch 2: 517.16\n",
      "Loss in Epoch 3: 514.65\n",
      "Loss in Epoch 4: 512.16\n",
      "Loss in Epoch 5: 509.68\n",
      "Loss in Epoch 6: 507.21\n",
      "Loss in Epoch 7: 504.75\n",
      "Loss in Epoch 8: 502.31\n",
      "Loss in Epoch 9: 499.88\n"
     ]
    }
   ],
   "source": [
    "CONTEXT_SIZE = 2\n",
    "EMBEDDING_DIM = 10\n",
    "# We will use Shakespeare Sonnet 2\n",
    "test_sentence = \"\"\"When forty winters shall besiege thy brow,\n",
    "And dig deep trenches in thy beauty's field,\n",
    "Thy youth's proud livery so gazed on now,\n",
    "Will be a totter'd weed of small worth held:\n",
    "Then being asked, where all thy beauty lies,\n",
    "Where all the treasure of thy lusty days;\n",
    "To say, within thine own deep sunken eyes,\n",
    "Were an all-eating shame, and thriftless praise.\n",
    "How much more praise deserv'd thy beauty's use,\n",
    "If thou couldst answer 'This fair child of mine\n",
    "Shall sum my count, and make my old excuse,'\n",
    "Proving his beauty by succession thine!\n",
    "This were to be new made when thou art old,\n",
    "And see thy blood warm when thou feel'st it cold.\"\"\".split()\n",
    "# we should tokenize the input, but we will ignore that for now\n",
    "# build a list of tuples.  Each tuple is ([ word_i-2, word_i-1 ], target word)\n",
    "trigrams = [([test_sentence[i], test_sentence[i + 1]], test_sentence[i + 2])\n",
    "            for i in range(len(test_sentence) - 2)]\n",
    "# print the first 3, just so you can see what they look like\n",
    "print(trigrams[:3])\n",
    "\n",
    "vocab = set(test_sentence)\n",
    "word_to_ix = {word: i for i, word in enumerate(vocab)}\n",
    "\n",
    "\n",
    "class NGramLanguageModeler(nn.Module):\n",
    "\n",
    "    def __init__(self, vocab_size, embedding_dim, context_size):\n",
    "        super(NGramLanguageModeler, self).__init__()\n",
    "        self.embeddings = nn.Embedding(vocab_size, embedding_dim)\n",
    "        self.linear1 = nn.Linear(context_size * embedding_dim, 128)\n",
    "        self.linear2 = nn.Linear(128, vocab_size)\n",
    "\n",
    "    def forward(self, inputs):\n",
    "        embeds = self.embeddings(inputs).view((1, -1))\n",
    "        out = F.relu(self.linear1(embeds))\n",
    "        out = self.linear2(out)\n",
    "        log_probs = F.log_softmax(out, dim=1)\n",
    "        return log_probs\n",
    "\n",
    "\n",
    "losses = []\n",
    "loss_function = nn.NLLLoss() # Negative Log Likelihood Loss\n",
    "model = NGramLanguageModeler(len(vocab), EMBEDDING_DIM, CONTEXT_SIZE)\n",
    "optimizer = optim.SGD(model.parameters(), lr=0.001)\n",
    "\n",
    "for epoch in range(10):\n",
    "    total_loss = 0\n",
    "    for context, target in trigrams:\n",
    "\n",
    "        # Step 1. Prepare the inputs to be passed to the model (i.e, turn the words\n",
    "        # into integer indices and wrap them in tensors)\n",
    "        context_idxs = torch.tensor([word_to_ix[w] for w in context], dtype=torch.long)\n",
    "\n",
    "        # Step 2. Recall that torch *accumulates* gradients. Before passing in a\n",
    "        # new instance, you need to zero out the gradients from the old\n",
    "        # instance\n",
    "        model.zero_grad()\n",
    "\n",
    "        # Step 3. Run the forward pass, getting log probabilities over next\n",
    "        # words\n",
    "        log_probs = model(context_idxs)\n",
    "\n",
    "        # Step 4. Compute your loss function. (Again, Torch wants the target\n",
    "        # word wrapped in a tensor)\n",
    "        loss = loss_function(log_probs, torch.tensor([word_to_ix[target]], dtype=torch.long))\n",
    "\n",
    "        # Step 5. Do the backward pass and update the gradient\n",
    "        loss.backward()\n",
    "        optimizer.step()\n",
    "\n",
    "        # Get the Python number from a 1-element Tensor by calling tensor.item()\n",
    "        total_loss += loss.item()\n",
    "    print(\"Loss in Epoch {ep}: {l}\".format(ep=epoch, l=np.round(total_loss, 2))) # The loss decreased every iteration over the training data!\n",
    "    losses.append(total_loss)"
   ]
  },
  {
   "cell_type": "markdown",
   "metadata": {
    "id": "7fV7zUnlz7xp"
   },
   "source": [
    "# Exercise: Computing Word Embeddings: Continuous Bag-of-Words\n",
    "\n",
    "The Continuous Bag-of-Words model (CBOW) is frequently used in NLP deep\n",
    "learning. It is a model that tries to predict words given the context of\n",
    "a few words before and a few words after the target word. This is\n",
    "distinct from language modeling, since CBOW is not sequential and does\n",
    "not have to be probabilistic. Typcially, CBOW is used to quickly train\n",
    "word embeddings, and these embeddings are used to initialize the\n",
    "embeddings of some more complicated model. Usually, this is referred to\n",
    "as *pretraining embeddings*. It almost always helps performance a couple\n",
    "of percent.\n",
    "\n",
    "The CBOW model is as follows. Given a target word $w_i$ and an\n",
    "$N$ context window on each side, $w_{i-1}, \\dots, w_{i-N}$\n",
    "and $w_{i+1}, \\dots, w_{i+N}$, referring to all context words\n",
    "collectively as $C$, CBOW tries to minimize\n",
    "\n",
    "\\begin{align}-\\log p(w_i | C) = -\\log \\text{Softmax}(A(\\sum_{w \\in C} q_w) + b)\\end{align}\n",
    "\n",
    "where $q_w$ is the embedding for word $w$.\n"
   ]
  },
  {
   "cell_type": "markdown",
   "metadata": {
    "id": "Pj_2_qqM7Md_"
   },
   "source": [
    "## Exercise Layout\n",
    "### 1. <u>Training CBOW Embeddings</u>\n",
    "1.1) Implement a CBOW Model by completing ```class CBOW(nn.Module)``` and train it on ```raw_text```.    \n",
    "\n",
    "1.2) Load Datasets ```tripadvisor_hotel_reviews_reduced.csv``` and ```scifi_reduced.txt```.     \n",
    "\n",
    "1.3) Decide preprocessing steps by completing the function ```def custom_preprocess()```. Describe your decisions. Note that it's your choice to create different preprocessing functions for hotel reviews and scifi datasets or use the same preprocessing function.             \n",
    "\n",
    "1.4) Train CBOW2 with a context width of 2 (in both directions) for the Hotel Reviews dataset.   \n",
    "\n",
    "1.5) Train CBOW5 with a context width of 5 (in both directions) for the Hotel Reviews dataset. Are predictions made by the model sensitive towards the context size?\n",
    "     \n",
    "1.6) Train CBOW2 with a context width of 2 (in both directions) for the Sci-Fi story dataset.  \n",
    "\n",
    "\n",
    "### 2. <u>Test your Embeddings</u>\n",
    "Note - Do the following for CBOW2, and optionally for CBOW5\n",
    "\n",
    "2.1) For the hotel reviews dataset, choose 3 nouns, 3 verbs, and 3 adjectives. Make sure that some nouns/verbs/adjectives occur frequently in the corpus and that others are rare. For each of the 9 chosen words, retrieve the 5 closest words according to your trained CBOW2 model. List them in your report and comment on the performance of your model: do the neighbours the model provides make sense? Discuss.   \n",
    "\n",
    "2.2) Do the same for Sci-Fi dataset.   \n",
    "\n",
    "2.3) How does the quality of the hotel review-based embeddings compare with the Sci-fi-based embeddings? Elaborate.   \n",
    "\n",
    "2.4) Choose 2 words and retrieve their 5 closest neighbours according to hotel review-based embeddings and the Sci-fi-based embeddings. Do they have different neighbours? If yes, can you reason why?    \n",
    "\n",
    "2.5) What are the differences between CBOW2 and CBOW5 ? Can you \"describe\" them?   \n"
   ]
  },
  {
   "cell_type": "markdown",
   "metadata": {
    "id": "Xvo1QvEf-iT2"
   },
   "source": [
    "### Tips\n",
    "\n",
    "1. Switch from CPU to a GPU instance after you have confirmed that your training procedure is working correctly.\n",
    "2. You can always save your intermediate results (embeddings, preprocessed dataset, model, etc.) in your google drive via colab\n"
   ]
  },
  {
   "cell_type": "markdown",
   "metadata": {
    "id": "vfG8j2JiRMly"
   },
   "source": [
    "\n",
    "### 1.1 Create a CBOW Model by completing ```class CBOW(nn.Module)``` and test it on ```raw_text```\n",
    "Implement CBOW in Pytorch by filling in the class below. Some\n",
    "tips:\n",
    "\n",
    "* Think about which parameters you need to define.\n",
    "* Make sure you know what shape each operation expects. Use .view() if you need to\n",
    "  reshape."
   ]
  },
  {
   "cell_type": "code",
   "execution_count": 3,
   "metadata": {
    "colab": {
     "base_uri": "https://localhost:8080/"
    },
    "id": "YD26-qBLPxU8",
    "outputId": "e09da9b0-a6b6-42f9-8d2a-6c8bf908f8cc"
   },
   "outputs": [],
   "source": [
    "CONTEXT_SIZE = 2  # 2 words to the left, 2 to the right\n",
    "raw_text = \"\"\"We are about to study the idea of a computational process.\n",
    "Computational processes are abstract beings that inhabit computers.\n",
    "As they evolve, processes manipulate other abstract things called data.\n",
    "The evolution of a process is directed by a pattern of rules\n",
    "called a program. People create programs to direct processes. In effect,\n",
    "we conjure the spirits of the computer with our spells.\"\"\".split()\n",
    "\n",
    "# By deriving a set from `raw_text`, we deduplicate the array\n",
    "vocab = set(raw_text)\n",
    "vocab_size = len(vocab)\n",
    "\n",
    "word_to_ix = {word: i for i, word in enumerate(vocab)}\n",
    "data = []\n",
    "for i in range(2, len(raw_text) - 2):\n",
    "    context = [raw_text[i - 2], raw_text[i - 1],\n",
    "               raw_text[i + 1], raw_text[i + 2]]\n",
    "    target = raw_text[i]\n",
    "    data.append((context, target))\n",
    "# print(data[:5])\n",
    "\n",
    "\n",
    "class CBOW(nn.Module):\n",
    "\n",
    "    def __init__(self, vocab_size, embedding_dim, context_size):\n",
    "        super(CBOW,self).__init__()\n",
    "        self.embedding_dim = embedding_dim\n",
    "        self.context_size = context_size\n",
    "        self.embeddings = nn.Embedding(vocab_size, embedding_dim)\n",
    "        self.linear1 = nn.Linear(context_size*embedding_dim*2, 128)\n",
    "        self.linear2 = nn.Linear(128,vocab_size)\n",
    "\n",
    "        nn.init.kaiming_uniform_(self.linear1.weight, nonlinearity = 'relu')\n",
    "        nn.init.xavier_uniform_(self.linear2.weight)\n",
    "\n",
    "    def forward(self, inputs):\n",
    "        #flatten the embeddings: batch * (context_size * embed_dim *2)\n",
    "        embeds = self.embeddings(inputs).view((-1, self.context_size*self.embedding_dim*2))\n",
    "        h1 = F.relu(self.linear1(embeds))\n",
    "        h2 = self.linear2(h1)\n",
    "        neg_log_probs = F.log_softmax(h2, dim=1)\n",
    "        return neg_log_probs\n",
    "\n",
    "# create your model and train.  here are some functions to help you make\n",
    "# the data ready for use by your module\n",
    "\n",
    "\n",
    "def make_context_vector(context, word_to_ix):\n",
    "    idxs = [word_to_ix[w] for w in context]\n",
    "    return torch.tensor(idxs, dtype=torch.long)\n",
    "\n",
    "\n",
    "# make_context_vector(data[0][0], word_to_ix)  # example"
   ]
  },
  {
   "cell_type": "markdown",
   "metadata": {
    "id": "9NbVpFkR77uv"
   },
   "source": [
    "### 1.2 Load Datasets"
   ]
  },
  {
   "cell_type": "code",
   "execution_count": null,
   "metadata": {
    "colab": {
     "base_uri": "https://localhost:8080/"
    },
    "id": "i4XpJnxV79rK",
    "outputId": "23244257-ee06-4895-864f-20d22ff1a81c"
   },
   "outputs": [
    {
     "name": "stdout",
     "output_type": "stream",
     "text": [
      "Downloading...\n",
      "From: https://drive.google.com/uc?id=1foE1JuZJeu5E_4qVge9kExzhvF32teuF\n",
      "To: /content/tripadvisor_hotel_reviews_reduced.csv\n",
      "100% 7.36M/7.36M [00:00<00:00, 37.7MB/s]\n",
      "Downloading...\n",
      "From: https://drive.google.com/uc?id=13IWXrTjGTrfCd9l7dScZVO8ZvMicPU75\n",
      "To: /content/scifi_reduced.txt\n",
      "100% 43.1M/43.1M [00:00<00:00, 68.9MB/s]\n"
     ]
    }
   ],
   "source": [
    "### Load Datasets tripadvisor_hotel_reviews_reduced.csv and scifi_reduced.txt\n",
    "\n",
    "!gdown 1foE1JuZJeu5E_4qVge9kExzhvF32teuF # For Hotel Reviews\n",
    "!gdown 13IWXrTjGTrfCd9l7dScZVO8ZvMicPU75 # For Scifi-Text"
   ]
  },
  {
   "cell_type": "markdown",
   "metadata": {
    "id": "F9AUsLd78JVv"
   },
   "source": [
    "### 1.3 Preprocess Datasets\n",
    "### 🗒❓ Describe your decisions for preprocessing the datasets"
   ]
  },
  {
   "cell_type": "code",
   "execution_count": 12,
   "metadata": {
    "colab": {
     "base_uri": "https://localhost:8080/"
    },
    "id": "9AEF16-v9Erc",
    "outputId": "7ee9792a-df8b-40c8-d372-8114a7f71b1f",
    "scrolled": true
   },
   "outputs": [],
   "source": [
    "### Complete the preprocessing function and apply it to the datasets\n",
    "\n",
    "# We use spacy to preprocess the datasets, \n",
    "# if spacy is not installed on colab, please uncomment the following two lines to install it\n",
    "\n",
    "# !pip install spacy\n",
    "# !python -m spacy download en_core_web_sm\n",
    "\n",
    "import spacy\n",
    "import pandas as pd\n",
    "from tqdm import tqdm\n",
    "\n",
    "tqdm.pandas()\n",
    "\n",
    "nlp_en = spacy.load(\"en_core_web_sm\", disable = [\"ner\", \"parser\"])\n",
    "\n",
    "def preprocess(example, dataset = \"hotel\", nlp = nlp_en):\n",
    "    \n",
    "    if dataset == \"hotel\":\n",
    "        raw = \" \".join([w for ls in [w.split(\".\") for w in example.split(\" \")] for w in ls]) # split \"xx.xxx\"\n",
    "        doc = nlp_en(raw)\n",
    "        # Since the hotel review dataset has been preprocessed, we only remove digits and punct\n",
    "        doc = [w.lemma_ for w in doc if not w.like_num and not w.is_punct and w.text !=\" \"]\n",
    "\n",
    "    elif dataset == \"scifi\":\n",
    "        doc = nlp_en(example)\n",
    "        # remove punctuations and stopwords and lemmatise to align with the hotel dataset\n",
    "        doc = [w.lemma_ for w in doc if not w.is_stop and\n",
    "            not w.is_punct and not w.is_digit][1:-1]\n",
    "\n",
    "    return doc\n",
    "\n"
   ]
  },
  {
   "cell_type": "code",
   "execution_count": 13,
   "metadata": {
    "colab": {
     "base_uri": "https://localhost:8080/"
    },
    "id": "5nxjSg05W7hf",
    "outputId": "688aafa2-9b0e-4841-83fe-92baeece0bec"
   },
   "outputs": [
    {
     "name": "stdout",
     "output_type": "stream",
     "text": [
      "----------Start preprocessing the hotel dataset----------\n"
     ]
    },
    {
     "name": "stderr",
     "output_type": "stream",
     "text": [
      "100%|██████████| 10000/10000 [01:03<00:00, 158.43it/s]"
     ]
    },
    {
     "name": "stdout",
     "output_type": "stream",
     "text": [
      "Done.\n"
     ]
    },
    {
     "name": "stderr",
     "output_type": "stream",
     "text": [
      "\n"
     ]
    }
   ],
   "source": [
    "# preprocess the hotel dataset\n",
    "raw_hotel = pd.read_csv(\"tripadvisor_hotel_reviews_reduced.csv\")\n",
    "print(\"----------Start preprocessing the hotel dataset----------\")\n",
    "preprocessed_hotel = raw_hotel[\"Review\"].progress_apply(preprocess).to_list()\n",
    "print(\"Done.\")"
   ]
  },
  {
   "cell_type": "code",
   "execution_count": 14,
   "metadata": {
    "id": "sURVSP0ESzgJ",
    "outputId": "fa7dab0c-5c0e-49fe-f9d7-eea3599ab80c"
   },
   "outputs": [
    {
     "name": "stdout",
     "output_type": "stream",
     "text": [
      "----------Start preprocessing the scifi dataset----------\n"
     ]
    },
    {
     "name": "stderr",
     "output_type": "stream",
     "text": [
      "100%|██████████| 10000/10000 [06:08<00:00, 27.15it/s]"
     ]
    },
    {
     "name": "stdout",
     "output_type": "stream",
     "text": [
      "Done.\n"
     ]
    },
    {
     "name": "stderr",
     "output_type": "stream",
     "text": [
      "\n"
     ]
    }
   ],
   "source": [
    "# preprocess the sci-fi text dataset\n",
    "input = open(\"scifi_reduced.txt\")\n",
    "with input as i:\n",
    "    raw_scifi = i.read()\n",
    "    print(\"----------Start preprocessing the scifi dataset----------\")\n",
    "    # Truncate the dataset so it won't exceed the nlp pipe's processing limit\n",
    "    preprocessed_scifi = []\n",
    "    num_chunk = 10000\n",
    "    for i in tqdm(range(num_chunk)):\n",
    "        chunk_size = int(len(raw_scifi)/num_chunk)\n",
    "        chunk = raw_scifi[i*chunk_size:(i+1)*chunk_size]\n",
    "        preprocessed_chunk = preprocess(chunk, dataset=\"scifi\")\n",
    "        preprocessed_scifi.extend(preprocessed_chunk)\n",
    "    print(\"Done.\")"
   ]
  },
  {
   "cell_type": "code",
   "execution_count": 15,
   "metadata": {
    "id": "ZAPV-4bNSzgJ"
   },
   "outputs": [],
   "source": [
    "def save_preprocessed(data, fp):\n",
    "    with open(fp, \"x\") as out:\n",
    "        json.dump(data, out)\n",
    "\n",
    "save_preprocessed(preprocessed_hotel, \"preprocessed_hotel.json\")\n",
    "save_preprocessed(preprocessed_scifi, \"preprocessed_scifi.json\")"
   ]
  },
  {
   "cell_type": "markdown",
   "metadata": {
    "id": "5UEHh3zP9nUn"
   },
   "source": [
    "### 1.4 Train CBOW2 with a context width of 2 (in both directions) for the Hotel Reviews dataset."
   ]
  },
  {
   "cell_type": "code",
   "execution_count": 4,
   "metadata": {
    "id": "nPoW9Q0TSzgK"
   },
   "outputs": [],
   "source": [
    "# prepare the datasets\n",
    "\n",
    "from torch.utils.data import Dataset, DataLoader, random_split\n",
    "\n",
    "class CBOWdataset(Dataset):\n",
    "    def __init__(self, context_len, data = \"hotel\"):\n",
    "\n",
    "        self.data = []\n",
    "\n",
    "        if data == \"hotel\":\n",
    "            fp = \"preprocessed_hotel.json\"\n",
    "            with open(fp, 'r') as file:\n",
    "                preprocessed_hotel = json.load(file)\n",
    "            dat = [token for exp in preprocessed_hotel for token in exp] #flatten\n",
    "            vocab = set(dat)\n",
    "            self.freq_dist = Counter(dat) # create a freq dist\n",
    "            for review in preprocessed_hotel:\n",
    "                for i in range(context_len, len(review) - context_len):\n",
    "                    context = review[i-context_len:i] + review[i+1:i+context_len+1] #left+right\n",
    "                    target = review[i]\n",
    "                    self.data.append((context, target))\n",
    "\n",
    "        elif data == \"scifi\":\n",
    "            fp = \"preprocessed_scifi.json\"\n",
    "            with open(fp, 'r') as file:\n",
    "                preprocessed_scifi = json.load(file)\n",
    "            dat = [token for token in preprocessed_scifi]\n",
    "            vocab = set(dat)\n",
    "            self.freq_dist = Counter(dat)\n",
    "            for i in range(context_len, len(preprocessed_scifi) - context_len):\n",
    "                context = preprocessed_scifi[i-context_len:i] + preprocessed_scifi[i+1:i+context_len+1] #left+right\n",
    "                target = preprocessed_scifi[i]\n",
    "                self.data.append((context, target))\n",
    "\n",
    "        self.vocab_size = len(vocab)\n",
    "        self.word_to_ix = {word: i for i, word in enumerate(vocab)}\n",
    "\n",
    "    def __len__(self):\n",
    "        return len(self.data)\n",
    "\n",
    "    def __getitem__(self, idx):\n",
    "        context, target = self.data[idx]\n",
    "        context_tensor = self._make_context_vector(context)\n",
    "        target_tensor = torch.tensor(self.word_to_ix[target], dtype=torch.long)\n",
    "        return context_tensor, target_tensor\n",
    "\n",
    "    def _make_context_vector(self, context):\n",
    "        idxs = [self.word_to_ix[w] for w in context]\n",
    "        return torch.tensor(idxs, dtype=torch.long)\n",
    "\n",
    "    def vocab_size(self):\n",
    "        return self.vocab_size\n",
    "\n"
   ]
  },
  {
   "cell_type": "code",
   "execution_count": 5,
   "metadata": {
    "colab": {
     "base_uri": "https://localhost:8080/"
    },
    "id": "X9RL-KosSzgK",
    "outputId": "b5f79ae7-1041-42a5-c676-a9028c865cdc"
   },
   "outputs": [
    {
     "name": "stdout",
     "output_type": "stream",
     "text": [
      "(tensor([29692,   240,  7629, 29080]), tensor(28508))\n"
     ]
    }
   ],
   "source": [
    "\n",
    "# split the dataset into train and validation, each taking up 80% and 20% of the data\n",
    "full_hotel_dataset = CBOWdataset(context_len=2)\n",
    "hotel_train_data, hotel_val_data = random_split(full_hotel_dataset,\n",
    "                                                [0.8, 0.2])\n",
    "\n",
    "print(hotel_train_data[100])\n",
    "\n",
    "hotel_train_loader = DataLoader(hotel_train_data, batch_size=1024, shuffle=True)\n",
    "hotel_val_loader = DataLoader(hotel_val_data, batch_size=1024, shuffle=False)"
   ]
  },
  {
   "cell_type": "code",
   "execution_count": 6,
   "metadata": {
    "id": "TEXZnrtdchoN"
   },
   "outputs": [],
   "source": [
    "%matplotlib inline\n",
    "import matplotlib\n",
    "import matplotlib.pyplot as plt\n",
    "\n",
    "def plot(train_losses, val_losses=None):\n",
    "    fig, ax1 = plt.subplots()\n",
    "    ax1.plot(train_losses, label = \"train_loss\")\n",
    "    if val_losses:\n",
    "        ax1.plot(val_losses, label = \"val_loss\")\n",
    "\n",
    "    ax1.legend()\n",
    "    # plt.plot(accs)\n",
    "    ax1.set_ylabel('Avg Negative Likelihood Loss')\n",
    "    plt.xlabel('Epoch')\n",
    "    plt.show()"
   ]
  },
  {
   "cell_type": "code",
   "execution_count": 7,
   "metadata": {
    "id": "PzzkmAFLaAsX"
   },
   "outputs": [],
   "source": [
    "import copy\n",
    "\n",
    "def train(model,\n",
    "          train_loader,\n",
    "          val_loader = None,\n",
    "          num_epoches = 20,\n",
    "          lr=0.01,\n",
    "          patience=5,\n",
    "          delta = 0.01):\n",
    "    # train the model\n",
    "    device = \"cuda\" if torch.cuda.is_available() else \"cpu\"\n",
    "    print(f\"Training will start on {device}\")\n",
    "\n",
    "    loss_function = nn.NLLLoss(reduction=\"sum\")\n",
    "\n",
    "    def validation_step(model, dataloader, num_examples):\n",
    "        val_loss = 0\n",
    "\n",
    "        for idx, (context, target) in enumerate(dataloader):\n",
    "            context = context.to(device)\n",
    "            target = target.to(device)\n",
    "            out = model(context)\n",
    "            loss = loss_function(out, target)\n",
    "\n",
    "            val_loss+=loss\n",
    "\n",
    "        return val_loss/num_examples # return avg loss\n",
    "\n",
    "    model = model.to(device)\n",
    "\n",
    "    optimizer = optim.SGD(model.parameters(), lr=lr)\n",
    "\n",
    "    train_losses = []\n",
    "    val_losses = []\n",
    "    best_loss = float(\"inf\") #for early stopping\n",
    "    best_model_weights = None\n",
    "    patience_counter = patience\n",
    "\n",
    "    for epoch in range(num_epoches):\n",
    "\n",
    "        model.train()\n",
    "        avg_loss = 0\n",
    "        avg_val_loss = 0\n",
    "        for batch_idx, (context, target) in enumerate(train_loader):\n",
    "            context = context.to(device)\n",
    "            target = target.to(device)\n",
    "\n",
    "            model.zero_grad()\n",
    "            out = model(context)\n",
    "            loss = loss_function(out, target)\n",
    "            loss.backward()\n",
    "            avg_loss += loss.item()\n",
    "\n",
    "            optimizer.step()\n",
    "\n",
    "\n",
    "        num_train_examples = len(train_loader) * train_loader.batch_size\n",
    "        train_loss = avg_loss/num_train_examples\n",
    "        train_losses.append(train_loss)\n",
    "\n",
    "        if val_loader:\n",
    "            # enter validation step if there is a validation set\n",
    "            model.eval()\n",
    "            with torch.set_grad_enabled(False):\n",
    "\n",
    "                #validation\n",
    "                num_val_examples = len(val_loader) * val_loader.batch_size\n",
    "                val_loss = validation_step(model, val_loader, num_val_examples)\n",
    "                val_losses.append(val_loss.cpu())\n",
    "                print(\"-\"*30)\n",
    "                print(\"\"\"Epoch: %03d/%03d\\nAverage Training Loss: %.2f\\nAverage Validation Loss: %.2f\"\"\"\n",
    "                  % (epoch+1, num_epoches, train_loss, val_loss))\n",
    "                print(\"-\"*30)\n",
    "\n",
    "                #early stopping\n",
    "                if val_loss < best_loss-delta:\n",
    "                    best_loss = val_loss\n",
    "                    best_model_weights = copy.deepcopy(model.state_dict())\n",
    "                    patience_counter = patience  # Reset patience counter\n",
    "                    print(f\"Still improving, reset patience counter to {patience}.\")\n",
    "                else:\n",
    "                    patience_counter -= 1\n",
    "                    if patience_counter == 0:\n",
    "                        print(f\"Early stopping was reached!\")\n",
    "                        break\n",
    "                    print(f\"No substantial improvement, {patience_counter} epoch(es) till stop.\")\n",
    "    # loss graph\n",
    "    if val_loader:\n",
    "        plot(train_losses, val_losses)\n",
    "    else: plot(train_losses)\n",
    "    print(\"-\"*30)\n",
    "\n",
    "    model.load_state_dict(best_model_weights)\n",
    "    return model, best_model_weights\n"
   ]
  },
  {
   "cell_type": "code",
   "execution_count": 8,
   "metadata": {
    "colab": {
     "base_uri": "https://localhost:8080/",
     "height": 1000
    },
    "id": "DCuR2F1CSzgK",
    "outputId": "dd392642-bf13-46d6-ada6-360bf03e8902",
    "scrolled": true
   },
   "outputs": [
    {
     "name": "stdout",
     "output_type": "stream",
     "text": [
      "Training will start on cuda\n",
      "------------------------------\n",
      "Epoch: 001/020\n",
      "Average Training Loss: 8.10\n",
      "Average Validation Loss: 7.31\n",
      "------------------------------\n",
      "Still improving, reset patience counter to 5.\n",
      "------------------------------\n",
      "Epoch: 002/020\n",
      "Average Training Loss: 7.16\n",
      "Average Validation Loss: 7.01\n",
      "------------------------------\n",
      "Still improving, reset patience counter to 5.\n",
      "------------------------------\n",
      "Epoch: 003/020\n",
      "Average Training Loss: 6.91\n",
      "Average Validation Loss: 6.84\n",
      "------------------------------\n",
      "Still improving, reset patience counter to 5.\n",
      "------------------------------\n",
      "Epoch: 004/020\n",
      "Average Training Loss: 6.75\n",
      "Average Validation Loss: 6.77\n",
      "------------------------------\n",
      "Still improving, reset patience counter to 5.\n",
      "------------------------------\n",
      "Epoch: 005/020\n",
      "Average Training Loss: 6.63\n",
      "Average Validation Loss: 6.72\n",
      "------------------------------\n",
      "Still improving, reset patience counter to 5.\n",
      "------------------------------\n",
      "Epoch: 006/020\n",
      "Average Training Loss: 6.52\n",
      "Average Validation Loss: 6.69\n",
      "------------------------------\n",
      "Still improving, reset patience counter to 5.\n",
      "------------------------------\n",
      "Epoch: 007/020\n",
      "Average Training Loss: 6.42\n",
      "Average Validation Loss: 6.61\n",
      "------------------------------\n",
      "Still improving, reset patience counter to 5.\n",
      "------------------------------\n",
      "Epoch: 008/020\n",
      "Average Training Loss: 6.34\n",
      "Average Validation Loss: 6.61\n",
      "------------------------------\n",
      "No substantial improvement, 4 epoch(es) till stop.\n",
      "------------------------------\n",
      "Epoch: 009/020\n",
      "Average Training Loss: 6.25\n",
      "Average Validation Loss: 6.60\n",
      "------------------------------\n",
      "Still improving, reset patience counter to 5.\n",
      "------------------------------\n",
      "Epoch: 010/020\n",
      "Average Training Loss: 6.18\n",
      "Average Validation Loss: 6.57\n",
      "------------------------------\n",
      "Still improving, reset patience counter to 5.\n",
      "------------------------------\n",
      "Epoch: 011/020\n",
      "Average Training Loss: 6.12\n",
      "Average Validation Loss: 6.57\n",
      "------------------------------\n",
      "No substantial improvement, 4 epoch(es) till stop.\n",
      "------------------------------\n",
      "Epoch: 012/020\n",
      "Average Training Loss: 6.06\n",
      "Average Validation Loss: 6.57\n",
      "------------------------------\n",
      "No substantial improvement, 3 epoch(es) till stop.\n",
      "------------------------------\n",
      "Epoch: 013/020\n",
      "Average Training Loss: 6.01\n",
      "Average Validation Loss: 6.59\n",
      "------------------------------\n",
      "No substantial improvement, 2 epoch(es) till stop.\n",
      "------------------------------\n",
      "Epoch: 014/020\n",
      "Average Training Loss: 5.96\n",
      "Average Validation Loss: 6.59\n",
      "------------------------------\n",
      "No substantial improvement, 1 epoch(es) till stop.\n",
      "------------------------------\n",
      "Epoch: 015/020\n",
      "Average Training Loss: 5.91\n",
      "Average Validation Loss: 6.60\n",
      "------------------------------\n",
      "Early stopping was reached!\n"
     ]
    },
    {
     "data": {
      "image/png": "[encoded data removed]",
      "text/plain": [
       "<Figure size 432x288 with 1 Axes>"
      ]
     },
     "metadata": {
      "needs_background": "light"
     },
     "output_type": "display_data"
    },
    {
     "name": "stdout",
     "output_type": "stream",
     "text": [
      "------------------------------\n"
     ]
    }
   ],
   "source": [
    "# model parameters\n",
    "embedding_dim=50\n",
    "context_size=2\n",
    "\n",
    "model_hotel_2 = CBOW(full_hotel_dataset.vocab_size, embedding_dim, context_size)\n",
    "\n",
    "model_hotel_2_trained, model_hotel_2_weights = train(model_hotel_2,\n",
    "                                                     hotel_train_loader,\n",
    "                                                     hotel_val_loader)"
   ]
  },
  {
   "cell_type": "markdown",
   "metadata": {
    "id": "qn7teyu7987m"
   },
   "source": [
    "### 1.5 Train CBOW5 with a context width of 5 (in both directions) for the Hotel Reviews dataset.  \n",
    "\n",
    "🗒❓ Are predictions made by the model sensitive towards the context size?"
   ]
  },
  {
   "cell_type": "code",
   "execution_count": 9,
   "metadata": {
    "id": "vHVDR0bq-Cqc",
    "scrolled": true
   },
   "outputs": [
    {
     "name": "stdout",
     "output_type": "stream",
     "text": [
      "Sanity check: (tensor([ 3960, 17167, 18381, 32106,  2582, 32106, 17226,  7212, 11513, 12572]), tensor(14306))\n",
      "Training will start on cuda\n",
      "------------------------------\n",
      "Epoch: 001/020\n",
      "Average Training Loss: 8.26\n",
      "Average Validation Loss: 7.72\n",
      "------------------------------\n",
      "Still improving, reset patience counter to 5.\n",
      "------------------------------\n",
      "Epoch: 002/020\n",
      "Average Training Loss: 7.59\n",
      "Average Validation Loss: 7.56\n",
      "------------------------------\n",
      "Still improving, reset patience counter to 5.\n",
      "------------------------------\n",
      "Epoch: 003/020\n",
      "Average Training Loss: 7.48\n",
      "Average Validation Loss: 7.51\n",
      "------------------------------\n",
      "Still improving, reset patience counter to 5.\n",
      "------------------------------\n",
      "Epoch: 004/020\n",
      "Average Training Loss: 7.42\n",
      "Average Validation Loss: 7.48\n",
      "------------------------------\n",
      "Still improving, reset patience counter to 5.\n",
      "------------------------------\n",
      "Epoch: 005/020\n",
      "Average Training Loss: 7.37\n",
      "Average Validation Loss: 7.46\n",
      "------------------------------\n",
      "Still improving, reset patience counter to 5.\n",
      "------------------------------\n",
      "Epoch: 006/020\n",
      "Average Training Loss: 7.34\n",
      "Average Validation Loss: 7.49\n",
      "------------------------------\n",
      "No substantial improvement, 4 epoch(es) till stop.\n",
      "------------------------------\n",
      "Epoch: 007/020\n",
      "Average Training Loss: 7.30\n",
      "Average Validation Loss: 7.46\n",
      "------------------------------\n",
      "No substantial improvement, 3 epoch(es) till stop.\n",
      "------------------------------\n",
      "Epoch: 008/020\n",
      "Average Training Loss: 7.26\n",
      "Average Validation Loss: 7.48\n",
      "------------------------------\n",
      "No substantial improvement, 2 epoch(es) till stop.\n",
      "------------------------------\n",
      "Epoch: 009/020\n",
      "Average Training Loss: 7.24\n",
      "Average Validation Loss: 7.52\n",
      "------------------------------\n",
      "No substantial improvement, 1 epoch(es) till stop.\n",
      "------------------------------\n",
      "Epoch: 010/020\n",
      "Average Training Loss: 7.20\n",
      "Average Validation Loss: 7.53\n",
      "------------------------------\n",
      "Early stopping was reached!\n"
     ]
    },
    {
     "data": {
      "image/png": "[encoded data removed]",
      "text/plain": [
       "<Figure size 432x288 with 1 Axes>"
      ]
     },
     "metadata": {
      "needs_background": "light"
     },
     "output_type": "display_data"
    },
    {
     "name": "stdout",
     "output_type": "stream",
     "text": [
      "------------------------------\n"
     ]
    }
   ],
   "source": [
    "# model parameters\n",
    "embedding_dim=50\n",
    "context_size=5\n",
    "\n",
    "# split the dataset into train and validation, each taking up 80% and 20% of the data\n",
    "full_hotel_5_dataset = CBOWdataset(context_len=context_size)\n",
    "hotel_5_train_data, hotel_5_val_data = random_split(full_hotel_5_dataset,\n",
    "                                                    [0.8, 0.2])\n",
    "\n",
    "print(f\"Sanity check: {hotel_5_train_data[100]}\")\n",
    "\n",
    "hotel_5_train_loader = DataLoader(hotel_5_train_data, batch_size=1024, shuffle=True)\n",
    "hotel_5_val_loader = DataLoader(hotel_5_val_data, batch_size=1024, shuffle=False)\n",
    "\n",
    "model_hotel_5 = CBOW(full_hotel_5_dataset.vocab_size, embedding_dim, context_size)\n",
    "\n",
    "model_hotel_5_trained, model_hotel_5_weights = train(model_hotel_5,\n",
    "                                                     hotel_5_train_loader,\n",
    "                                                     hotel_5_val_loader)"
   ]
  },
  {
   "cell_type": "markdown",
   "metadata": {
    "id": "AXmEddYd-FSr"
   },
   "source": [
    "### 1.6 Train CBOW2 with a context width of 2 (in both directions) for the Sci-Fi story dataset"
   ]
  },
  {
   "cell_type": "code",
   "execution_count": 10,
   "metadata": {
    "id": "2U1S_5Hx-Jku",
    "scrolled": true
   },
   "outputs": [
    {
     "name": "stdout",
     "output_type": "stream",
     "text": [
      "Sanity check: (tensor([46281, 67769, 73286, 51213]), tensor(49402))\n",
      "Training will start on cuda\n",
      "------------------------------\n",
      "Epoch: 001/020\n",
      "Average Training Loss: 8.84\n",
      "Average Validation Loss: 8.61\n",
      "------------------------------\n",
      "Still improving, reset patience counter to 5.\n",
      "------------------------------\n",
      "Epoch: 002/020\n",
      "Average Training Loss: 8.46\n",
      "Average Validation Loss: 8.46\n",
      "------------------------------\n",
      "Still improving, reset patience counter to 5.\n",
      "------------------------------\n",
      "Epoch: 003/020\n",
      "Average Training Loss: 8.26\n",
      "Average Validation Loss: 8.39\n",
      "------------------------------\n",
      "Still improving, reset patience counter to 5.\n",
      "------------------------------\n",
      "Epoch: 004/020\n",
      "Average Training Loss: 8.11\n",
      "Average Validation Loss: 8.35\n",
      "------------------------------\n",
      "Still improving, reset patience counter to 5.\n",
      "------------------------------\n",
      "Epoch: 005/020\n",
      "Average Training Loss: 8.00\n",
      "Average Validation Loss: 8.32\n",
      "------------------------------\n",
      "Still improving, reset patience counter to 5.\n",
      "------------------------------\n",
      "Epoch: 006/020\n",
      "Average Training Loss: 7.90\n",
      "Average Validation Loss: 8.31\n",
      "------------------------------\n",
      "Still improving, reset patience counter to 5.\n",
      "------------------------------\n",
      "Epoch: 007/020\n",
      "Average Training Loss: 7.82\n",
      "Average Validation Loss: 8.31\n",
      "------------------------------\n",
      "No substantial improvement, 4 epoch(es) till stop.\n",
      "------------------------------\n",
      "Epoch: 008/020\n",
      "Average Training Loss: 7.74\n",
      "Average Validation Loss: 8.31\n",
      "------------------------------\n",
      "No substantial improvement, 3 epoch(es) till stop.\n",
      "------------------------------\n",
      "Epoch: 009/020\n",
      "Average Training Loss: 7.67\n",
      "Average Validation Loss: 8.32\n",
      "------------------------------\n",
      "No substantial improvement, 2 epoch(es) till stop.\n",
      "------------------------------\n",
      "Epoch: 010/020\n",
      "Average Training Loss: 7.61\n",
      "Average Validation Loss: 8.32\n",
      "------------------------------\n",
      "No substantial improvement, 1 epoch(es) till stop.\n",
      "------------------------------\n",
      "Epoch: 011/020\n",
      "Average Training Loss: 7.56\n",
      "Average Validation Loss: 8.33\n",
      "------------------------------\n",
      "Early stopping was reached!\n"
     ]
    },
    {
     "data": {
      "image/png": "[encoded data removed]",
      "text/plain": [
       "<Figure size 432x288 with 1 Axes>"
      ]
     },
     "metadata": {
      "needs_background": "light"
     },
     "output_type": "display_data"
    },
    {
     "name": "stdout",
     "output_type": "stream",
     "text": [
      "------------------------------\n"
     ]
    }
   ],
   "source": [
    "# model parameters\n",
    "embedding_dim=50\n",
    "context_size=2\n",
    "\n",
    "# split the dataset into train and validation, each taking up 80%, 20% of the data\n",
    "full_scifi_dataset = CBOWdataset(context_len=context_size, data=\"scifi\")\n",
    "scifi_train_data, scifi_val_data = random_split(full_scifi_dataset,\n",
    "                                                [0.8, 0.2])\n",
    "\n",
    "print(f\"Sanity check: {scifi_train_data[100]}\")\n",
    "\n",
    "scifi_train_loader = DataLoader(scifi_train_data, batch_size=1024, shuffle=True)\n",
    "scifi_val_loader = DataLoader(scifi_val_data, batch_size=1024, shuffle=False)\n",
    "\n",
    "model_scifi_2 = CBOW(full_scifi_dataset.vocab_size, embedding_dim, context_size)\n",
    "\n",
    "model_scifi_2_trained, model_scifi_2_weights = train(model_scifi_2,\n",
    "                                                     scifi_train_loader,\n",
    "                                                     scifi_val_loader)"
   ]
  },
  {
   "cell_type": "markdown",
   "metadata": {
    "id": "ulqFt2nc_Oq7"
   },
   "source": [
    "### 2.1 For the hotel reviews dataset, choose 3 nouns, 3 verbs, and 3 adjectives. (CBOW2 and optionally for CBOW5)\n",
    "Make sure that some nouns/verbs/adjectives occur frequently in the corpus and that others are rare. For each of the 9 chosen words, retrieve the 5 closest words according to your trained CBOW2 model.    \n",
    "\n",
    "🗒❓ List them in your report (at the end of this notebook) and comment on the performance of your model: do the neighbours the model provides make sense? Discuss.   \n"
   ]
  },
  {
   "cell_type": "code",
   "execution_count": 30,
   "metadata": {
    "id": "PRhW1MSU_byy"
   },
   "outputs": [],
   "source": [
    "def get_closest_word(word, cbow_model, dataset, topn=5, fast=True):\n",
    "    device = \"cuda\" if torch.cuda.is_available() else \"cpu\"\n",
    "    word_distance = []\n",
    "    emb = cbow_model.embeddings\n",
    "    pdist = nn.PairwiseDistance()\n",
    "    i = dataset.word_to_ix[word]\n",
    "    ix_to_word = {i:word for word, i in dataset.word_to_ix.items()}\n",
    "    lookup_tensor_i = torch.tensor([i], dtype=torch.long).to(device)\n",
    "    v_i = emb(lookup_tensor_i).to(device)\n",
    "    if dataset.vocab_size >= 50000 and fast == True:\n",
    "        search_range = range(0, dataset.vocab_size, 3) # speed up the search by narrowing the range\n",
    "    else:\n",
    "        search_range = range(dataset.vocab_size)\n",
    "    for j in search_range:\n",
    "        if j != i:\n",
    "            lookup_tensor_j = torch.tensor([j], dtype=torch.long).to(device)\n",
    "            v_j = emb(lookup_tensor_j).to(device)\n",
    "            word_distance.append((ix_to_word[j], float(pdist(v_i, v_j))))\n",
    "            word_distance.sort(key=lambda x: x[1])\n",
    "    return word_distance[:topn]"
   ]
  },
  {
   "cell_type": "code",
   "execution_count": 13,
   "metadata": {
    "scrolled": true
   },
   "outputs": [
    {
     "data": {
      "text/plain": [
       "[('hotel', 26457),\n",
       " ('not', 26151),\n",
       " ('room', 23102),\n",
       " ('stay', 13652),\n",
       " ('good', 10838),\n",
       " ('great', 10521),\n",
       " ('do', 8830),\n",
       " ('staff', 8226),\n",
       " ('night', 7093),\n",
       " ('day', 6613),\n",
       " ('nice', 6487),\n",
       " ('just', 6184),\n",
       " ('time', 6128),\n",
       " ('no', 5749),\n",
       " ('location', 5703),\n",
       " ('service', 5383),\n",
       " ('clean', 5312),\n",
       " ('beach', 5136),\n",
       " ('restaurant', 5048),\n",
       " ('breakfast', 4970),\n",
       " ('place', 4880),\n",
       " ('food', 4787),\n",
       " ('like', 4627),\n",
       " ('walk', 4598),\n",
       " ('resort', 4340),\n",
       " ('get', 4273),\n",
       " ('go', 4268),\n",
       " ('pool', 4249),\n",
       " ('really', 3897),\n",
       " ('bed', 3806),\n",
       " ('the', 3695),\n",
       " ('area', 3549),\n",
       " ('small', 3540),\n",
       " ('friendly', 3483),\n",
       " ('people', 3428),\n",
       " ('bar', 3377),\n",
       " ('want', 3339),\n",
       " ('say', 3283),\n",
       " ('little', 3097),\n",
       " ('well', 3038),\n",
       " ('excellent', 3038),\n",
       " ('view', 3031),\n",
       " ('check', 3024),\n",
       " ('book', 3011),\n",
       " ('recommend', 2942),\n",
       " ('bathroom', 2906),\n",
       " ('look', 2876),\n",
       " ('minute', 2854),\n",
       " ('make', 2792),\n",
       " ('helpful', 2774)]"
      ]
     },
     "execution_count": 13,
     "metadata": {},
     "output_type": "execute_result"
    }
   ],
   "source": [
    "# get most frequent words from the hotel review dataset \n",
    "full_hotel_dataset.freq_dist.most_common(50)"
   ]
  },
  {
   "cell_type": "code",
   "execution_count": 15,
   "metadata": {
    "scrolled": true
   },
   "outputs": [
    {
     "data": {
      "text/plain": [
       "[('now', 39),\n",
       " ('fireplace', 39),\n",
       " ('supposedly', 39),\n",
       " ('hampton', 39),\n",
       " ('occasional', 39),\n",
       " ('apprehensive', 39),\n",
       " ('sandal', 39),\n",
       " ('minimum', 39),\n",
       " ('alcoholic', 39),\n",
       " ('skill', 39),\n",
       " ('honeymooner', 39),\n",
       " ('fitting', 39),\n",
       " ('lover', 39),\n",
       " ('bean', 39),\n",
       " ('appointment', 38),\n",
       " ('indifferent', 38),\n",
       " ('verde', 38),\n",
       " ('yell', 38),\n",
       " ('thumb', 38),\n",
       " ('broken', 38),\n",
       " ('mat', 38),\n",
       " ('cultural', 38),\n",
       " ('bare', 38),\n",
       " ('entree', 38),\n",
       " ('financial', 38),\n",
       " ('initial', 38),\n",
       " ('dim', 38),\n",
       " ('confortable', 38),\n",
       " ('mediterranean', 38),\n",
       " ('active', 38),\n",
       " ('accord', 38),\n",
       " ('grateful', 38),\n",
       " ('ipod', 38),\n",
       " ('occur', 38),\n",
       " ('peacock', 38),\n",
       " ('saw', 38),\n",
       " ('fortunate', 38),\n",
       " ('flip', 38),\n",
       " ('button', 38),\n",
       " ('miserable', 38),\n",
       " ('bedside', 38),\n",
       " ('cooking', 38),\n",
       " ('male', 38),\n",
       " ('novotel', 38),\n",
       " ('energy', 38),\n",
       " ('height', 38),\n",
       " ('kettle', 38),\n",
       " ('compact', 38),\n",
       " ('sanur', 38),\n",
       " ('temp', 38)]"
      ]
     },
     "execution_count": 15,
     "metadata": {},
     "output_type": "execute_result"
    }
   ],
   "source": [
    "# now get some rare words  \n",
    "full_hotel_dataset.freq_dist.most_common()[2500:2550]"
   ]
  },
  {
   "cell_type": "code",
   "execution_count": 16,
   "metadata": {},
   "outputs": [
    {
     "name": "stdout",
     "output_type": "stream",
     "text": [
      "Closest words to 'service': [('food', 4.337729454040527), ('clean', 4.738553524017334), ('nice', 5.03281307220459), ('reasonabley', 5.067563056945801), ('small', 5.102420806884766)]\n",
      "--------------------------------------------------\n",
      "Closest words to 'restaurant': [('food', 4.3105363845825195), ('tasty', 4.8333330154418945), ('disastrous', 4.99407434463501), ('scenery', 5.023549556732178), ('racking', 5.131443500518799)]\n",
      "--------------------------------------------------\n",
      "Closest words to 'friendly': [('helpful', 4.691341400146484), ('pleasant', 5.514288425445557), ('nice', 5.6299357414245605), ('warm2', 5.634355545043945), ('death', 5.640056610107422)]\n",
      "--------------------------------------------------\n",
      "Closest words to 'like': [('want', 3.6884260177612305), ('use', 4.441554069519043), ('come', 4.458113193511963), ('expect', 4.470317840576172), ('try', 4.5471720695495605)]\n",
      "--------------------------------------------------\n",
      "Closest words to 'recommend': [('book', 5.216513633728027), ('stay', 5.302872657775879), ('well', 5.419320583343506), ('love', 5.607572078704834), ('worth', 5.627443790435791)]\n",
      "--------------------------------------------------\n",
      "Closest words to 'fireplace': [('ripp', 6.424557685852051), ('unique', 6.5325093269348145), ('niagara', 6.58349609375), ('sanitary', 6.625664710998535), ('floral', 6.767490386962891)]\n",
      "--------------------------------------------------\n",
      "Closest words to 'yell': [('rolling', 6.246433734893799), ('rare', 6.54892110824585), ('estimation', 6.6307525634765625), ('picture', 6.659000873565674), ('complication', 6.678111553192139)]\n",
      "--------------------------------------------------\n",
      "Closest words to 'financial': [('civilization', 6.893996238708496), ('servicable', 7.1432390213012695), ('overshadow', 7.2479166984558105), ('indifference', 7.390100955963135), ('calfs', 7.398736953735352)]\n",
      "--------------------------------------------------\n",
      "Closest words to 'grateful': [('liasion', 5.578640937805176), ('occupancy', 6.44682502746582), ('mediteranean', 6.481042385101318), ('representative', 6.486715316772461), ('fferent', 6.4879584312438965)]\n",
      "--------------------------------------------------\n"
     ]
    }
   ],
   "source": [
    "model_hotel_2_trained.eval()\n",
    "\n",
    "chosen_words = 'service restaurant friendly like recommend fireplace yell financial grateful'.split()\n",
    "\n",
    "for word in chosen_words:\n",
    "    closest_words = get_closest_word(word, model_hotel_2_trained, full_hotel_dataset)\n",
    "    print(f\"Closest words to '{word}': {closest_words}\")\n",
    "    print(\"-\"*50)"
   ]
  },
  {
   "cell_type": "markdown",
   "metadata": {
    "id": "njWN32I2ADn9"
   },
   "source": [
    "### 2.2 Repeat 2.1 for SciFi Dataset\n",
    "\n",
    "🗒❓ List your findings for SciFi Dataset as well, similarly to 2.1"
   ]
  },
  {
   "cell_type": "code",
   "execution_count": 24,
   "metadata": {},
   "outputs": [
    {
     "data": {
      "text/plain": [
       "[('live', 3576),\n",
       " ('air', 3552),\n",
       " ('fall', 3528),\n",
       " ('die', 3523),\n",
       " ('help', 3514),\n",
       " ('Mr.', 3503),\n",
       " ('high', 3499),\n",
       " ('maybe', 3498),\n",
       " ('wall', 3484),\n",
       " ('story', 3448),\n",
       " ('matter', 3411),\n",
       " ('speak', 3405),\n",
       " ('water', 3382),\n",
       " ('use', 3359),\n",
       " ('machine', 3348),\n",
       " ('t', 3302),\n",
       " ('step', 3274),\n",
       " ('order', 3254),\n",
       " ('follow', 3246),\n",
       " ('oh', 3245),\n",
       " ('lie', 3244),\n",
       " ('remember', 3243),\n",
       " ('night', 3222),\n",
       " ('stare', 3216),\n",
       " ('power', 3163),\n",
       " ('send', 3155),\n",
       " ('home', 3143),\n",
       " ('change', 3135),\n",
       " ('Retief', 3124),\n",
       " ('understand', 3111),\n",
       " ('break', 3063),\n",
       " ('kind', 3027),\n",
       " ('hard', 2947),\n",
       " ('pass', 2947),\n",
       " ('kill', 2928),\n",
       " ('line', 2921),\n",
       " ('inside', 2916),\n",
       " ('will', 2901),\n",
       " ('fact', 2885),\n",
       " ('young', 2847),\n",
       " ('bad', 2839),\n",
       " ('catch', 2831),\n",
       " ('later', 2819),\n",
       " ('thought', 2794),\n",
       " ('suddenly', 2794),\n",
       " ('read', 2788),\n",
       " ('boy', 2759),\n",
       " ('fire', 2758),\n",
       " ('hope', 2753),\n",
       " ('question', 2738)]"
      ]
     },
     "execution_count": 24,
     "metadata": {},
     "output_type": "execute_result"
    }
   ],
   "source": [
    "full_scifi_dataset.freq_dist.most_common()[100:150]"
   ]
  },
  {
   "cell_type": "code",
   "execution_count": 25,
   "metadata": {},
   "outputs": [
    {
     "data": {
      "text/plain": [
       "[('Hong', 90),\n",
       " ('barbarian', 90),\n",
       " ('Lloyd', 90),\n",
       " ('Examiner', 90),\n",
       " ('Margaret', 90),\n",
       " ('P', 90),\n",
       " ('Harkway', 90),\n",
       " ('Birds', 90),\n",
       " ('Val', 90),\n",
       " ('Girdie', 90),\n",
       " ('Olga', 90),\n",
       " ('Creery', 90),\n",
       " ('generous', 89),\n",
       " ('circulation', 89),\n",
       " ('election', 89),\n",
       " ('flaw', 89),\n",
       " ('destiny', 89),\n",
       " ('telepath', 89),\n",
       " ('hue', 89),\n",
       " ('digest', 89),\n",
       " ('mutual', 89),\n",
       " ('prowl', 89),\n",
       " ('crane', 89),\n",
       " ('makeup', 89),\n",
       " ('battered', 89),\n",
       " ('nap', 89),\n",
       " ('doc', 89),\n",
       " ('com', 89),\n",
       " ('drama', 89),\n",
       " ('renew', 89),\n",
       " ('trend', 89),\n",
       " ('protein', 89),\n",
       " ('Milt', 89),\n",
       " ('spurt', 89),\n",
       " ('usher', 89),\n",
       " ('fare', 89),\n",
       " ('eternity', 89),\n",
       " ('forearm', 89),\n",
       " ('prayer', 89),\n",
       " ('accomplishment', 89),\n",
       " ('uncomfortably', 89),\n",
       " ('reactor', 89),\n",
       " ('orbital', 89),\n",
       " ('Americans', 89),\n",
       " ('ink', 89),\n",
       " ('chute', 89),\n",
       " ('passport', 89),\n",
       " ('british', 89),\n",
       " ('blister', 89),\n",
       " ('luggage', 89)]"
      ]
     },
     "execution_count": 25,
     "metadata": {},
     "output_type": "execute_result"
    }
   ],
   "source": [
    "full_scifi_dataset.freq_dist.most_common()[5000:5050]"
   ]
  },
  {
   "cell_type": "code",
   "execution_count": 26,
   "metadata": {
    "id": "h3Uyn_VpAWa-"
   },
   "outputs": [
    {
     "name": "stdout",
     "output_type": "stream",
     "text": [
      "Closest words to 'power': [('Sullivani', 6.172387599945068), ('Galton', 6.173441410064697), ('stigmatize', 6.340121746063232), ('leaime', 6.343760013580322), ('unschedule', 6.368120193481445)]\n",
      "--------------------------------------------------\n",
      "Closest words to 'order': [('say', 6.0931830406188965), ('gerly', 6.318511962890625), ('unsay', 6.352578163146973), ('Centaurs', 6.358081817626953), ('m.fijcsty', 6.383589267730713)]\n",
      "--------------------------------------------------\n",
      "Closest words to 'catch': [('let', 5.259504318237305), ('raise', 5.267115592956543), ('take', 5.423624038696289), ('see', 5.5733256340026855), ('tkere', 5.575718402862549)]\n",
      "--------------------------------------------------\n",
      "Closest words to 'hard': [('Cookery', 5.6529412269592285), ('arresting', 6.0992865562438965), ('longdiscredited', 6.3609724044799805), ('etting', 6.462723731994629), ('pm', 6.495577812194824)]\n",
      "--------------------------------------------------\n",
      "Closest words to 'mathematician': [('boy', 6.323715686798096), ('steadfastly', 6.528372764587402), ('itiheir', 6.600849151611328), ('Gripes', 6.6617207527160645), ('H.P.', 6.673041343688965)]\n",
      "--------------------------------------------------\n",
      "Closest words to 'compulsion': [('sjcak', 6.3295159339904785), ('arresting', 6.414663314819336), ('grease', 6.449207305908203), ('ou#ost', 6.477294921875), ('luckier', 6.495285511016846)]\n",
      "--------------------------------------------------\n",
      "Closest words to 'weaken': [('Gross', 6.532775402069092), ('Ayrabs', 6.754991054534912), ('pagoda', 6.780725002288818), ('googol', 6.789617538452148), ('Erosine', 6.91370153427124)]\n",
      "--------------------------------------------------\n",
      "Closest words to 'absurd': [('Suttleprobe', 6.108456611633301), ('radius', 6.152090549468994), ('Manual', 6.254757881164551), ('Jhe', 6.402358055114746), ('longdiscredited', 6.434078216552734)]\n",
      "--------------------------------------------------\n",
      "Closest words to 'ignorant': [('Uw', 7.11380672454834), ('Adamjs', 7.196077823638916), ('Snerr', 7.248864650726318), ('befog', 7.358412742614746), ('tatooe', 7.394001483917236)]\n",
      "--------------------------------------------------\n"
     ]
    }
   ],
   "source": [
    "model_scifi_2_trained.eval()\n",
    "\n",
    "chosen_words = 'power order catch hard mathematician compulsion weaken absurd ignorant'.split()\n",
    "\n",
    "for word in chosen_words:\n",
    "    closest_words = get_closest_word(word, model_scifi_2_trained, full_scifi_dataset)\n",
    "    print(f\"Closest words to '{word}': {closest_words}\")\n",
    "    print(\"-\"*50)"
   ]
  },
  {
   "cell_type": "markdown",
   "metadata": {
    "id": "E2yqWM5oAhzf"
   },
   "source": [
    "### 2.3 🗒❓ How does the quality of the hotel review-based embeddings compare with the Sci-fi-based embeddings? Elaborate."
   ]
  },
  {
   "cell_type": "markdown",
   "metadata": {
    "id": "oQrywIKgA1Ct"
   },
   "source": [
    "Please see report"
   ]
  },
  {
   "cell_type": "markdown",
   "metadata": {
    "id": "Ivwn8YCgA4GX"
   },
   "source": [
    "### 2.4 Choose 2 words and retrieve their 5 closest neighbours according to hotel review-based embeddings and the Sci-fi-based embeddings.\n",
    "\n",
    "🗒❓ Do they have different neighbours? If yes, can you reason why?"
   ]
  },
  {
   "cell_type": "code",
   "execution_count": 31,
   "metadata": {
    "id": "4J_xUKzgA3gU"
   },
   "outputs": [
    {
     "name": "stdout",
     "output_type": "stream",
     "text": [
      "Closest words to 'book' in the scifi embeddings: [('ncte', 6.180566310882568), ('Substitute', 6.193581581115723), ('patri', 6.367183685302734), ('ccwnpletely', 6.3977532386779785), ('fs', 6.436145305633545)]\n",
      "Closest words to 'book' in the hotel embeddings: [('stay', 3.853832721710205), ('pay', 4.7628278732299805), ('choose', 4.7667927742004395), ('get', 4.859658718109131), ('well', 4.891086578369141)]\n",
      "--------------------------------------------------\n",
      "Closest words to 'night' in the scifi embeddings: [('Lugosi', 5.829150676727295), ('tonner', 5.884518623352051), ('friend', 5.943471908569336), ('Equations', 5.984170913696289), ('wilfly', 5.987205982208252)]\n",
      "Closest words to 'night' in the hotel embeddings: [('day', 4.581025123596191), ('hotel', 4.970040798187256), ('time', 5.164200782775879), ('room', 5.188656806945801), ('good', 5.376789093017578)]\n",
      "--------------------------------------------------\n"
     ]
    }
   ],
   "source": [
    "chosen_words = \"book night\".split(\" \")\n",
    "\n",
    "for word in chosen_words:\n",
    "    closest_words = get_closest_word(word, model_scifi_2_trained, full_scifi_dataset, fast=False)\n",
    "    print(f\"Closest words to '{word}' in the scifi embeddings: {closest_words}\")\n",
    "    closest_words = get_closest_word(word, model_hotel_2_trained, full_hotel_dataset)\n",
    "    print(f\"Closest words to '{word}' in the hotel embeddings: {closest_words}\")\n",
    "    print(\"-\"*50)"
   ]
  },
  {
   "cell_type": "markdown",
   "metadata": {
    "id": "DD09lU02Cw7e"
   },
   "source": [
    "### 2.5 🗒❓ What are the differences between CBOW2 and CBOW5 ? Can you \"describe\" them?    "
   ]
  },
  {
   "cell_type": "markdown",
   "metadata": {
    "id": "L9SZlUPM4mZr"
   },
   "source": [
    "Please see report"
   ]
  },
  {
   "cell_type": "markdown",
   "metadata": {
    "id": "RdgWLLHJC24h"
   },
   "source": [
    "### Report\n",
    "The lab report should contain a detailed description of the approaches you have used to solve this exercise. Please also include results.\n",
    "\n",
    "Answers for the questions marked 🗒❓ goes here as well"
   ]
  },
  {
   "attachments": {
    "image-2.png": {
     "image/png": "[encoded data removed]"
    },
    "image-3.png": {
     "image/png": "[encoded data removed]"
    },
    "image.png": {
     "image/png": "[encoded data removed]"
    }
   },
   "cell_type": "markdown",
   "metadata": {},
   "source": [
    "### Lab Report: Word Embeddings \n",
    "\n",
    "*(Answers to the questions are marked with ❓.)*\n",
    "\n",
    "#### **1. Overview**\n",
    "\n",
    "In this experiment, we constructed and trained continuous bag of words (CBOW) models with various window sizes on the tripadvisor hotel review dataset and the scifi story dataset. We then qualitatively examined a few vector embeddings from the models by investigating their closest neighbours.\n",
    "\n",
    "#### **2. Datasets**\n",
    "\n",
    "(❓1.3 preprocessing) We worked on the reduced versions of the tripadvisor hotel review dataset and the scifi story dataset. Upon examining the hotel review dataset, we noticed that this had already gone through some preprocessing. Hence, we only removed digits and punctuations from the data, and then applied lemmatisation. As for the scifi data, we additionally performed stop words removal. Specifically for the hotel review dataset, we noticed that there are a number of ill-formed sequences in the format of `xxx.xxxx`, for example \"city.and\". We fixed this by splitting at `.` before the actual preprocessing.\n",
    "\n",
    "#### **3. Model and Training**\n",
    "\n",
    "#### 3.1 Model Architecture\n",
    "\n",
    "We implememented CBOW models of window size of 2 and 5 tokens to both directions of the target. Both models consist of one embedding layer with a dimension of 50 and two linear layers with a ReLU activation in between. The dimension of the hidden states is set to be 128.\n",
    "\n",
    "#### 3.2 Training\n",
    "\n",
    "On the hotel review dataset, we trained two models with window sizes of 2 and 5 (`CBOW-2-hotel` and `CBOW-5-hotel`) respectively. We trained a model with a window size of 2 on the scifi dataset.\n",
    "\n",
    "During training, we initialised the weights for the first layer with Xavier initialisation and the second one with Kaiming initialisation. The maximum number of training epoches was chosen to be 20. We split the datasets into training and validation, with the former taking up 80% of the data and the latter 20%. We used the Negtive Log Likelihhod Loss with Stochastic Gradient Descent. Learning rate was chosen to be 0.01. We inplemented early stopping with a patience of 5 and delta of 0.01 to monitor the change in the average validation loss and stop training when it no longer (non-trivially) decreased.  \n",
    "\n",
    "#### **4. Results**\n",
    "\n",
    "The training results are encapsulated in `Table 1`. `Figure 1-3` present the loss plot for each of the three models.\n",
    "\n",
    "| **Model**| `CBOW-2-hotel` | `CBOW-5-hotel` | `CBOW-2_scifi` |\n",
    "|:-|-:|-:|-:|\n",
    "|**Vocab size**|32362|32362|113488|\n",
    "|**Avg val loss**|6.60|7.53|8.33|\n",
    "\n",
    "**Table 1** Model training results \n",
    "\n",
    "![image.png](attachment:image.png)\n",
    "\n",
    "**Figure 1** Loss plot for `CBOW-2-hotel`\n",
    "\n",
    "![image-2.png](attachment:image-2.png)\n",
    "\n",
    "**Figure 2** Loss plot for `CBOW-5-hotel`\n",
    "\n",
    "(❓1.5) In light of `Table 1` and `Figure 1-2`, it seems that increasing window size caused the model prediction to deviate more from the central target, evidenced by the increased average validation loss. We speculate that larger window, on one hand, brought more information to the model, but on the other hand, perplexed it at the same time, hence the raise in loss. `CBOW-5-hotel` also started to overfit earilier than `CBOW-2-hotel`, suggesting that it is potentially too complex.\n",
    "\n",
    "![image-3.png](attachment:image-3.png)\n",
    "\n",
    "**Figure 3** Loss plot for `CBOW-2-scifi`\n",
    "\n",
    "#### **5. Evaluation and Discussion**\n",
    "\n",
    "We evaluated the quality of the learned word embeddings by looking at the closet neighbours of a selection of words. The neighbours were retrieved by computing the pairwise distance between the chosen words and each candidate embedding. We selected words based on frequency lists contructed for the hotel review and scifi corpora.\n",
    "\n",
    "#### 5.1 `CBOW-2-hotel`\n",
    "\n",
    "(❓2.1) The results for `CBOW-2-hotel` are shown in `Table 2`. In general, the neighbours for high frequency words are more or less sensible: for example. `restaurant` was correctly placed closely to related words like `food`, `tasty` and `disastrous. However, the model's performance on rare words was somewhat dissatisfactory but expected, as their limited occurrence posits difficulty for the model to correctly place them in the vector space. \n",
    "\n",
    "|Word|PoS|Frequency|Top 5 closest neighbours|\n",
    "|:-|-:|-:|-:|\n",
    "|service|noun|high|food, clean, nice, reasonabley, small|\n",
    "|restaurant|noun|high|food, tasty, disastrous, scenery, racking|\n",
    "|fireplace|noun|low|ripp, unique, niagara, sanitary, floral|\n",
    "|friendly|adj|high|helpful, pleasant, nice, warm2, death|\n",
    "|financial|adj|low|civilization, servicable, overshadow, indifference, calfs|\n",
    "|grateful|adj|low|liasion, occupancy, mediteranean, representative, fferent|\n",
    "|like|verb|high|want, use, come, expect, try|\n",
    "|recommend|verb|high|book, stay, well, love, worth|\n",
    "|yell|verb|low|rolling, rare, estimation, picture, complication|\n",
    "\n",
    "**Table 2** Cloest neighbours retrieved by `CBOW-2-hotel`. \n",
    "\n",
    "#### 5.2 `CBOW-2-scifi`\n",
    "\n",
    "(❓2.2, 2.3) `Table 3` presents the neighbours retrieved by `CBOW-2-scifi`. `CBOW-2-scifi` returned neighbours that are much more elusive in constrast to `CBOW-2-hotel`. Even the quality for highly frequent words was suboptimal. This might be due to the relatively large vocabulary size (shown in `Table 1`) where words might have a much more complex relationship with each other than co-occurrence. As shown in `Figure 3`, this model had the highest validation loss across the three models, and suffered greatly from overfitting. \n",
    "\n",
    "|Word|PoS|Frequency|Top 5 closest neighbours|\n",
    "|:-|-:|-:|-:|\n",
    "|power|noun|high|Sullivani, Galton, stigmatize, leaime, unschedule|\n",
    "|mathematician|noun|low|boy, steadfastly, itiheir, Gripes, H.P.|\n",
    "|compulsion|noun|low|sjcak, arresting, grease, ou#ost, luckier|\n",
    "|hard|adj|high|Cookery, arresting, longdiscredited, etting, pm|\n",
    "|absurd|adj|low|Suttleprobe, radius, Manual, Jhe, longdiscredited|\n",
    "|ignorant|adj|low|Uw, Adamjs, Snerr, befog, tattooe|\n",
    "|order|verb|high|say, gerly, unsay, Centaurs, m.fijcsty|\n",
    "|catch|verb|high|let, raise, take, see, tkere|\n",
    "|weaken|verb|low|Gross, Ayrabs, pagoda, googol, Erosine|\n",
    "\n",
    "**Table 3** Cloest neighbours retrieved by `CBOW-2-scifi`\n",
    "\n",
    "#### 5.3 Cross-model comparison\n",
    "\n",
    "(❓2.4) We also compared neighbours of the same words retrieved by `CBOW-2-scifi` and `CBOW-2-hotel`. Two examples are given in `Table 4`. `Book` in the hotel dataset is more often associated with the sense of booking a hotel room, hence the neighbours `stay` and `pay`. The same goes for `night`, which was more related to the traditional sense of time (as opposed to `day`), and the time spent in a hotel room. These two words, however, have drastically different neighbours in the scifi dataset. This is firstly a result of messy dataset (as discussed above) consisting of many non-words like `ncte` and misspellings. \n",
    "\n",
    "More importantly, the semantic space in each embedding reflects the context in which the word is used, shaping the associations between words differently in each dataset. the Sci-fi-based embeddings reflect a more abstract and literary style of language. Words like `book` and `night` are associated with different themes in science fiction literature. These embeddings reflect a richer variety in terms of intellectual topics or narrative structures, which is typical for a Sci-fi corpus.\n",
    "\n",
    "In general, the embeddings from the Sci-fi dataset are more abstract and tied to thematic elements, whereas the hotel review embeddings are more contextually grounded in practical, service-related words.\n",
    "\n",
    "|Word|Model|Neighbours|\n",
    "|:-|-:|-:|\n",
    "|book|`CBOW-2-scifi`|ncte, Substitute, patri, ccwnpletely, fs|\n",
    "|book|`CBOW-2-hotel`|stay, pay, choose, get, well|\n",
    "|night|`CBOW-2-scifi`|Lugosi, tonner, friend, Equations, wilfly|\n",
    "|night|`CBOW-2-hotel`|day, hotel, time, room, good|\n",
    "\n",
    "#### **6. Conclusions**\n",
    "\n",
    "(❓2.5) `CBOW-2` has context window size is 2, meaning it uses the two words surrounding a target word to predict the target word. It captures more local, immediate context and thus focuses on close relationships between words.\n",
    "\n",
    "`CBOW-5`, on the other hand, has a larger context window of 5 words, meaning it considers a broader context around the target word. This might capture more semantic relationships and broader dependencies in the text but may miss out on very specific, local word pairings.\n",
    "\n",
    "In practice, `CBOW-2` tends to perform better on datasets where close proximity word relationships are more important, such as in short, concise texts like reviews. `CBOW-5` might perform better in longer, more complex texts like Sci-fi narratives, where relationships between words might span over several tokens."
   ]
  }
 ],
 "metadata": {
  "accelerator": "GPU",
  "colab": {
   "gpuType": "T4",
   "provenance": []
  },
  "kernelspec": {
   "display_name": "ml4nlp",
   "language": "python",
   "name": "ml4nlp"
  },
  "language_info": {
   "codemirror_mode": {
    "name": "ipython",
    "version": 3
   },
   "file_extension": ".py",
   "mimetype": "text/x-python",
   "name": "python",
   "nbconvert_exporter": "python",
   "pygments_lexer": "ipython3",
   "version": "3.10.4"
  }
 },
 "nbformat": 4,
 "nbformat_minor": 1
}
